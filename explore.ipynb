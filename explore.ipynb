{
 "cells": [
  {
   "cell_type": "code",
   "execution_count": 1,
   "metadata": {},
   "outputs": [],
   "source": [
    "import time\n",
    "from pathlib import Path\n",
    "from PIL import Image\n",
    "import matplotlib.pyplot as plt\n",
    "import torch, pykitti\n",
    "import numpy as np\n",
    "import sys\n",
    "# sys.path.append(\"..\")\n",
    "\n",
    "from data_loader.kitti_odometry_dataset import KittiOdometryDataset\n",
    "from model.monorec.monorec_model import MonoRecModel\n",
    "from utils import unsqueezer, map_fn, to\n",
    "\n",
    "target_image_size = (256, 512)\n",
    "\n",
    "device = \"cuda:0\" if torch.cuda.is_available() else \"cpu\"\n",
    "\n",
    "dataset = KittiOdometryDataset(\"example/data/kitti\", sequences=[\"07\"], target_image_size=target_image_size, frame_count=2,\n",
    "                               depth_folder=\"image_depth_annotated\", lidar_depth=True, use_dso_poses=True,\n",
    "                               use_index_mask=None)\n",
    "dataset._dataset_sizes = [1000]\n",
    "dataset._datasets[0].cam2_files = [f\"example/data/kitti/sequences/07/image_2/{i:06d}.png\" for i in range(dataset._dataset_sizes[0])]\n",
    "dataset._datasets[0].cam3_files = [f\"example/data/kitti/sequences/07/image_3/{i:06d}.png\" for i in range(dataset._dataset_sizes[0])]\n",
    "# print(dataset._datasets[0].cam3_files) # cam? corresponds to image_? folder\n",
    "\n",
    "# batch, depth = dataset.__getitem__(164)\n"
   ]
  },
  {
   "cell_type": "code",
   "execution_count": 2,
   "metadata": {},
   "outputs": [
    {
     "name": "stderr",
     "output_type": "stream",
     "text": [
      "c:\\ProgramData\\Anaconda3\\envs\\torch_17\\lib\\site-packages\\ipykernel\\ipkernel.py:287: DeprecationWarning: `should_run_async` will not call `transform_cell` automatically in the future. Please pass the result to `transformed_cell` argument and any exception that happen during thetransform in `preprocessing_exc_tuple` in IPython 7.17 and above.\n",
      "  and should_run_async(code)\n"
     ]
    },
    {
     "name": "stdout",
     "output_type": "stream",
     "text": [
      "Initializing model...\n",
      "Fetching data...\n",
      "self._offset=5\n",
      "\n",
      "Starting inference...\n",
      "tensor([[-0.9923, -0.9884, -0.9845,  ...,  0.9983,  1.0023,  1.0062],\n",
      "        [-0.9923, -0.9884, -0.9845,  ...,  0.9983,  1.0023,  1.0062],\n",
      "        [-0.9923, -0.9884, -0.9845,  ...,  0.9983,  1.0023,  1.0062],\n",
      "        ...,\n",
      "        [-0.9910, -0.9871, -0.9832,  ...,  0.9959,  0.9999,  1.0038],\n",
      "        [-0.9910, -0.9871, -0.9832,  ...,  0.9959,  0.9999,  1.0038],\n",
      "        [-0.9910, -0.9871, -0.9832,  ...,  0.9959,  0.9998,  1.0038]],\n",
      "       device='cuda:0')\n",
      "tensor([[-1.0029, -0.9990, -0.9951,  ...,  0.9897,  0.9936,  0.9976],\n",
      "        [-1.0030, -0.9991, -0.9951,  ...,  0.9897,  0.9936,  0.9976],\n",
      "        [-1.0030, -0.9991, -0.9952,  ...,  0.9897,  0.9937,  0.9976],\n",
      "        ...,\n",
      "        [-1.0099, -1.0059, -1.0020,  ...,  0.9904,  0.9943,  0.9982],\n",
      "        [-1.0099, -1.0060, -1.0020,  ...,  0.9904,  0.9943,  0.9982],\n",
      "        [-1.0099, -1.0060, -1.0021,  ...,  0.9904,  0.9943,  0.9982]],\n",
      "       device='cuda:0')\n"
     ]
    }
   ],
   "source": [
    "# len(batch['frames'])\n",
    "ind=169\n",
    "Img2=dataset._datasets[0].get_cam2(ind)\n",
    "# Img2.show()\n",
    "checkpoint_location = Path(\"saved/checkpoints/monorec_depth_ref.pth\")\n",
    "\n",
    "inv_depth_min_max = [0.33, 0.0025]\n",
    "\n",
    "print(\"Initializing model...\")\n",
    "monorec_model = MonoRecModel(checkpoint_location=checkpoint_location, inv_depth_min_max=inv_depth_min_max)\n",
    "\n",
    "monorec_model.to(device)\n",
    "monorec_model.eval()\n",
    "\n",
    "print(\"Fetching data...\")\n",
    "index = 164\n",
    "# Corresponds to image index 169\n",
    "\n",
    "batch, depth = dataset.__getitem__(index)\n",
    "batch = map_fn(batch, unsqueezer)\n",
    "depth = map_fn(depth, unsqueezer)\n",
    "\n",
    "batch = to(batch, device)\n",
    "\n",
    "print(\"Starting inference...\")\n",
    "s = time.time()\n",
    "with torch.no_grad():\n",
    "    data = monorec_model(batch)"
   ]
  },
  {
   "cell_type": "code",
   "execution_count": 3,
   "metadata": {},
   "outputs": [
    {
     "name": "stderr",
     "output_type": "stream",
     "text": [
      "c:\\ProgramData\\Anaconda3\\envs\\torch_17\\lib\\site-packages\\ipykernel\\ipkernel.py:287: DeprecationWarning: `should_run_async` will not call `transform_cell` automatically in the future. Please pass the result to `transformed_cell` argument and any exception that happen during thetransform in `preprocessing_exc_tuple` in IPython 7.17 and above.\n",
      "  and should_run_async(code)\n"
     ]
    }
   ],
   "source": [
    "# a=torch.ones((10,3,4))\n",
    "# b=a.expand(3,1,1)"
   ]
  }
 ],
 "metadata": {
  "kernelspec": {
   "display_name": "Python 3.7.11 ('torch_17')",
   "language": "python",
   "name": "python3"
  },
  "language_info": {
   "codemirror_mode": {
    "name": "ipython",
    "version": 3
   },
   "file_extension": ".py",
   "mimetype": "text/x-python",
   "name": "python",
   "nbconvert_exporter": "python",
   "pygments_lexer": "ipython3",
   "version": "3.7.11"
  },
  "orig_nbformat": 4,
  "vscode": {
   "interpreter": {
    "hash": "2617d3e5e15120c9a4e3129b62a31ac488661404cbf97132df24c46aea853201"
   }
  }
 },
 "nbformat": 4,
 "nbformat_minor": 2
}

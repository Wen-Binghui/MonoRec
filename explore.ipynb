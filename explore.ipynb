{
 "cells": [
  {
   "cell_type": "code",
   "execution_count": 1,
   "metadata": {},
   "outputs": [
    {
     "name": "stdout",
     "output_type": "stream",
     "text": [
      "self._offset=5\n",
      "\n"
     ]
    }
   ],
   "source": [
    "import time\n",
    "from pathlib import Path\n",
    "from PIL import Image\n",
    "import matplotlib.pyplot as plt\n",
    "import torch, pykitti\n",
    "import numpy as np\n",
    "import sys\n",
    "# sys.path.append(\"..\")\n",
    "\n",
    "from data_loader.kitti_odometry_dataset import KittiOdometryDataset\n",
    "from model.monorec.monorec_model import MonoRecModel\n",
    "from utils import unsqueezer, map_fn, to\n",
    "\n",
    "target_image_size = (256, 512)\n",
    "\n",
    "device = \"cuda:0\" if torch.cuda.is_available() else \"cpu\"\n",
    "\n",
    "dataset = KittiOdometryDataset(\"example/data/kitti\", sequences=[\"07\"], target_image_size=target_image_size, frame_count=2,\n",
    "                               depth_folder=\"image_depth_annotated\", lidar_depth=True, use_dso_poses=True,\n",
    "                               use_index_mask=None)\n",
    "dataset._dataset_sizes = [1000]\n",
    "dataset._datasets[0].cam2_files = [f\"example/data/kitti/sequences/07/image_2/{i:06d}.png\" for i in range(dataset._dataset_sizes[0])]\n",
    "dataset._datasets[0].cam3_files = [f\"example/data/kitti/sequences/07/image_3/{i:06d}.png\" for i in range(dataset._dataset_sizes[0])]\n",
    "# print(dataset._datasets[0].cam3_files) # cam? corresponds to image_? folder\n",
    "\n",
    "batch, depth = dataset.__getitem__(164)\n"
   ]
  },
  {
   "cell_type": "code",
   "execution_count": 2,
   "metadata": {},
   "outputs": [
    {
     "name": "stderr",
     "output_type": "stream",
     "text": [
      "c:\\ProgramData\\Anaconda3\\envs\\torch_17\\lib\\site-packages\\ipykernel\\ipkernel.py:287: DeprecationWarning: `should_run_async` will not call `transform_cell` automatically in the future. Please pass the result to `transformed_cell` argument and any exception that happen during thetransform in `preprocessing_exc_tuple` in IPython 7.17 and above.\n",
      "  and should_run_async(code)\n"
     ]
    }
   ],
   "source": [
    "# len(batch['frames'])\n",
    "ind=169\n",
    "Img2=dataset._datasets[0].get_cam2(ind)\n",
    "# Img2.show()\n",
    "\n",
    "\n"
   ]
  }
 ],
 "metadata": {
  "kernelspec": {
   "display_name": "Python 3.7.11 ('torch_17')",
   "language": "python",
   "name": "python3"
  },
  "language_info": {
   "codemirror_mode": {
    "name": "ipython",
    "version": 3
   },
   "file_extension": ".py",
   "mimetype": "text/x-python",
   "name": "python",
   "nbconvert_exporter": "python",
   "pygments_lexer": "ipython3",
   "version": "3.7.11"
  },
  "orig_nbformat": 4,
  "vscode": {
   "interpreter": {
    "hash": "2617d3e5e15120c9a4e3129b62a31ac488661404cbf97132df24c46aea853201"
   }
  }
 },
 "nbformat": 4,
 "nbformat_minor": 2
}
